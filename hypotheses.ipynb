{
  "nbformat": 4,
  "nbformat_minor": 0,
  "metadata": {
    "colab": {
      "provenance": []
    },
    "kernelspec": {
      "name": "python3",
      "display_name": "Python 3"
    },
    "language_info": {
      "name": "python"
    }
  },
  "cells": [
    {
      "cell_type": "markdown",
      "source": [
        "## Проверка гепотез"
      ],
      "metadata": {
        "id": "6JsfcbyKuR4g"
      }
    },
    {
      "cell_type": "code",
      "source": [
        "import pandas as pd\n",
        "import numpy as np\n",
        "import scipy.stats as sts\n",
        "import matplotlib.pyplot as plt"
      ],
      "metadata": {
        "id": "1M3erF1cu3Ox"
      },
      "execution_count": 1,
      "outputs": []
    },
    {
      "cell_type": "markdown",
      "source": [
        "Подгрузим данные:"
      ],
      "metadata": {
        "id": "gIfxDsOHuqAZ"
      }
    },
    {
      "cell_type": "code",
      "source": [
        "df_tracks = pd.read_csv('/content/df_tracks.csv')\n",
        "df_tracks.head()"
      ],
      "metadata": {
        "colab": {
          "base_uri": "https://localhost:8080/",
          "height": 299
        },
        "id": "dYyOIOdJuo4w",
        "outputId": "ae8ade50-65cd-4766-a758-294f26f2547e"
      },
      "execution_count": 3,
      "outputs": [
        {
          "output_type": "execute_result",
          "data": {
            "text/plain": [
              "   Unnamed: 0                                name  duration  explicit  \\\n",
              "0           0         Born With A Beer In My Hand     188.0         0   \n",
              "1           1                          Last Night     163.0         1   \n",
              "2           2                   Everything I Love     187.0         0   \n",
              "3           3  Man Made A Bar (feat. Eric Church)     191.0         0   \n",
              "4           4                    Devil Don’t Know     205.0         0   \n",
              "\n",
              "   track number  popularity  speechiness    tempo  dance-valence  feat  \\\n",
              "0           1.0        77.0       0.0401  148.026       0.322848     0   \n",
              "1           2.0        89.0       0.0389  203.759       0.235176     0   \n",
              "2           3.0        80.0       0.0261  103.983       0.379424     0   \n",
              "3           4.0        81.0       0.0309  147.984       0.243522     1   \n",
              "4           5.0        76.0       0.0272  125.002       0.171190     0   \n",
              "\n",
              "   loud-energy  \n",
              "0    -4.434750  \n",
              "1    -3.682800  \n",
              "2    -3.197482  \n",
              "3    -3.824584  \n",
              "4    -3.750272  "
            ],
            "text/html": [
              "\n",
              "  <div id=\"df-50dca6f4-62f2-468f-a208-741267248a07\">\n",
              "    <div class=\"colab-df-container\">\n",
              "      <div>\n",
              "<style scoped>\n",
              "    .dataframe tbody tr th:only-of-type {\n",
              "        vertical-align: middle;\n",
              "    }\n",
              "\n",
              "    .dataframe tbody tr th {\n",
              "        vertical-align: top;\n",
              "    }\n",
              "\n",
              "    .dataframe thead th {\n",
              "        text-align: right;\n",
              "    }\n",
              "</style>\n",
              "<table border=\"1\" class=\"dataframe\">\n",
              "  <thead>\n",
              "    <tr style=\"text-align: right;\">\n",
              "      <th></th>\n",
              "      <th>Unnamed: 0</th>\n",
              "      <th>name</th>\n",
              "      <th>duration</th>\n",
              "      <th>explicit</th>\n",
              "      <th>track number</th>\n",
              "      <th>popularity</th>\n",
              "      <th>speechiness</th>\n",
              "      <th>tempo</th>\n",
              "      <th>dance-valence</th>\n",
              "      <th>feat</th>\n",
              "      <th>loud-energy</th>\n",
              "    </tr>\n",
              "  </thead>\n",
              "  <tbody>\n",
              "    <tr>\n",
              "      <th>0</th>\n",
              "      <td>0</td>\n",
              "      <td>Born With A Beer In My Hand</td>\n",
              "      <td>188.0</td>\n",
              "      <td>0</td>\n",
              "      <td>1.0</td>\n",
              "      <td>77.0</td>\n",
              "      <td>0.0401</td>\n",
              "      <td>148.026</td>\n",
              "      <td>0.322848</td>\n",
              "      <td>0</td>\n",
              "      <td>-4.434750</td>\n",
              "    </tr>\n",
              "    <tr>\n",
              "      <th>1</th>\n",
              "      <td>1</td>\n",
              "      <td>Last Night</td>\n",
              "      <td>163.0</td>\n",
              "      <td>1</td>\n",
              "      <td>2.0</td>\n",
              "      <td>89.0</td>\n",
              "      <td>0.0389</td>\n",
              "      <td>203.759</td>\n",
              "      <td>0.235176</td>\n",
              "      <td>0</td>\n",
              "      <td>-3.682800</td>\n",
              "    </tr>\n",
              "    <tr>\n",
              "      <th>2</th>\n",
              "      <td>2</td>\n",
              "      <td>Everything I Love</td>\n",
              "      <td>187.0</td>\n",
              "      <td>0</td>\n",
              "      <td>3.0</td>\n",
              "      <td>80.0</td>\n",
              "      <td>0.0261</td>\n",
              "      <td>103.983</td>\n",
              "      <td>0.379424</td>\n",
              "      <td>0</td>\n",
              "      <td>-3.197482</td>\n",
              "    </tr>\n",
              "    <tr>\n",
              "      <th>3</th>\n",
              "      <td>3</td>\n",
              "      <td>Man Made A Bar (feat. Eric Church)</td>\n",
              "      <td>191.0</td>\n",
              "      <td>0</td>\n",
              "      <td>4.0</td>\n",
              "      <td>81.0</td>\n",
              "      <td>0.0309</td>\n",
              "      <td>147.984</td>\n",
              "      <td>0.243522</td>\n",
              "      <td>1</td>\n",
              "      <td>-3.824584</td>\n",
              "    </tr>\n",
              "    <tr>\n",
              "      <th>4</th>\n",
              "      <td>4</td>\n",
              "      <td>Devil Don’t Know</td>\n",
              "      <td>205.0</td>\n",
              "      <td>0</td>\n",
              "      <td>5.0</td>\n",
              "      <td>76.0</td>\n",
              "      <td>0.0272</td>\n",
              "      <td>125.002</td>\n",
              "      <td>0.171190</td>\n",
              "      <td>0</td>\n",
              "      <td>-3.750272</td>\n",
              "    </tr>\n",
              "  </tbody>\n",
              "</table>\n",
              "</div>\n",
              "      <button class=\"colab-df-convert\" onclick=\"convertToInteractive('df-50dca6f4-62f2-468f-a208-741267248a07')\"\n",
              "              title=\"Convert this dataframe to an interactive table.\"\n",
              "              style=\"display:none;\">\n",
              "        \n",
              "  <svg xmlns=\"http://www.w3.org/2000/svg\" height=\"24px\"viewBox=\"0 0 24 24\"\n",
              "       width=\"24px\">\n",
              "    <path d=\"M0 0h24v24H0V0z\" fill=\"none\"/>\n",
              "    <path d=\"M18.56 5.44l.94 2.06.94-2.06 2.06-.94-2.06-.94-.94-2.06-.94 2.06-2.06.94zm-11 1L8.5 8.5l.94-2.06 2.06-.94-2.06-.94L8.5 2.5l-.94 2.06-2.06.94zm10 10l.94 2.06.94-2.06 2.06-.94-2.06-.94-.94-2.06-.94 2.06-2.06.94z\"/><path d=\"M17.41 7.96l-1.37-1.37c-.4-.4-.92-.59-1.43-.59-.52 0-1.04.2-1.43.59L10.3 9.45l-7.72 7.72c-.78.78-.78 2.05 0 2.83L4 21.41c.39.39.9.59 1.41.59.51 0 1.02-.2 1.41-.59l7.78-7.78 2.81-2.81c.8-.78.8-2.07 0-2.86zM5.41 20L4 18.59l7.72-7.72 1.47 1.35L5.41 20z\"/>\n",
              "  </svg>\n",
              "      </button>\n",
              "      \n",
              "  <style>\n",
              "    .colab-df-container {\n",
              "      display:flex;\n",
              "      flex-wrap:wrap;\n",
              "      gap: 12px;\n",
              "    }\n",
              "\n",
              "    .colab-df-convert {\n",
              "      background-color: #E8F0FE;\n",
              "      border: none;\n",
              "      border-radius: 50%;\n",
              "      cursor: pointer;\n",
              "      display: none;\n",
              "      fill: #1967D2;\n",
              "      height: 32px;\n",
              "      padding: 0 0 0 0;\n",
              "      width: 32px;\n",
              "    }\n",
              "\n",
              "    .colab-df-convert:hover {\n",
              "      background-color: #E2EBFA;\n",
              "      box-shadow: 0px 1px 2px rgba(60, 64, 67, 0.3), 0px 1px 3px 1px rgba(60, 64, 67, 0.15);\n",
              "      fill: #174EA6;\n",
              "    }\n",
              "\n",
              "    [theme=dark] .colab-df-convert {\n",
              "      background-color: #3B4455;\n",
              "      fill: #D2E3FC;\n",
              "    }\n",
              "\n",
              "    [theme=dark] .colab-df-convert:hover {\n",
              "      background-color: #434B5C;\n",
              "      box-shadow: 0px 1px 3px 1px rgba(0, 0, 0, 0.15);\n",
              "      filter: drop-shadow(0px 1px 2px rgba(0, 0, 0, 0.3));\n",
              "      fill: #FFFFFF;\n",
              "    }\n",
              "  </style>\n",
              "\n",
              "      <script>\n",
              "        const buttonEl =\n",
              "          document.querySelector('#df-50dca6f4-62f2-468f-a208-741267248a07 button.colab-df-convert');\n",
              "        buttonEl.style.display =\n",
              "          google.colab.kernel.accessAllowed ? 'block' : 'none';\n",
              "\n",
              "        async function convertToInteractive(key) {\n",
              "          const element = document.querySelector('#df-50dca6f4-62f2-468f-a208-741267248a07');\n",
              "          const dataTable =\n",
              "            await google.colab.kernel.invokeFunction('convertToInteractive',\n",
              "                                                     [key], {});\n",
              "          if (!dataTable) return;\n",
              "\n",
              "          const docLinkHtml = 'Like what you see? Visit the ' +\n",
              "            '<a target=\"_blank\" href=https://colab.research.google.com/notebooks/data_table.ipynb>data table notebook</a>'\n",
              "            + ' to learn more about interactive tables.';\n",
              "          element.innerHTML = '';\n",
              "          dataTable['output_type'] = 'display_data';\n",
              "          await google.colab.output.renderOutput(dataTable, element);\n",
              "          const docLink = document.createElement('div');\n",
              "          docLink.innerHTML = docLinkHtml;\n",
              "          element.appendChild(docLink);\n",
              "        }\n",
              "      </script>\n",
              "    </div>\n",
              "  </div>\n",
              "  "
            ]
          },
          "metadata": {},
          "execution_count": 3
        }
      ]
    },
    {
      "cell_type": "code",
      "source": [
        "df_tracks.drop('Unnamed: 0', axis=1, inplace=True)"
      ],
      "metadata": {
        "id": "SnXviDThvW8A"
      },
      "execution_count": 4,
      "outputs": []
    },
    {
      "cell_type": "markdown",
      "source": [
        "Во время работы с данными у нас возникло несколько гипотез, которые мы хотели бы проверить:"
      ],
      "metadata": {
        "id": "oxvew_ZZiJWa"
      }
    },
    {
      "cell_type": "markdown",
      "source": [
        "### Гипотеза 1: ожидаемая популярность песен с матами равна ожидаемой популярности песен без них.  \n",
        "### Альтернативная гипотеза: ожидаемая популярность песен с матами больше.\n",
        "$$H_0: \\mu_X = \\mu_Y$$\n",
        "$$H_A: \\mu_X > \\mu_Y$$\n",
        ", где $\\mu_X$ - ожидаемая популярность песен с матами, $\\mu_Y$ - ожидаемая популярность песен без матов. \\\n",
        "Разделим данные по популярности:"
      ],
      "metadata": {
        "id": "fMb65B-MvuG_"
      }
    },
    {
      "cell_type": "code",
      "source": [
        "X = df_tracks[(df_tracks['explicit'] == 1)]['popularity']\n",
        "Y = df_tracks[(df_tracks['explicit'] == 0)]['popularity']"
      ],
      "metadata": {
        "id": "E6kigb6Svedj"
      },
      "execution_count": 5,
      "outputs": []
    },
    {
      "cell_type": "code",
      "source": [
        "X.shape, Y.shape"
      ],
      "metadata": {
        "colab": {
          "base_uri": "https://localhost:8080/"
        },
        "id": "07SCsfCQvef4",
        "outputId": "a3426c47-94cf-4dc4-e587-fa5d8ca84b04"
      },
      "execution_count": 6,
      "outputs": [
        {
          "output_type": "execute_result",
          "data": {
            "text/plain": [
              "((1439,), (1806,))"
            ]
          },
          "metadata": {},
          "execution_count": 6
        }
      ]
    },
    {
      "cell_type": "markdown",
      "source": [
        "Данных у нас достаточно, чтобы говорить о применимости ЦПТ. Проверим гипотезу на уровне $5\\%$ с помощью одностороннего $t$-теста (применяем его, так как не знаем настоящую теоритическую дисперсию):"
      ],
      "metadata": {
        "id": "mxyTUVZ7x86Q"
      }
    },
    {
      "cell_type": "code",
      "source": [
        "sts.ttest_ind(X, Y, alternative='greater')"
      ],
      "metadata": {
        "colab": {
          "base_uri": "https://localhost:8080/"
        },
        "id": "EBeZDlykvejJ",
        "outputId": "a517df72-e787-4811-fd3f-02c4c3b5674a"
      },
      "execution_count": 7,
      "outputs": [
        {
          "output_type": "execute_result",
          "data": {
            "text/plain": [
              "Ttest_indResult(statistic=11.445165423556311, pvalue=4.5977198463313635e-30)"
            ]
          },
          "metadata": {},
          "execution_count": 7
        }
      ]
    },
    {
      "cell_type": "markdown",
      "source": [
        "Таким образом, гипотеза о равенстве отвергается в пользу гипотезы о том, что ожидаемая популярность песен с матами больше."
      ],
      "metadata": {
        "id": "yPNFf7JAy3sK"
      }
    },
    {
      "cell_type": "markdown",
      "source": [
        "### Гипотеза 2: между номером трека в альбоме и популярностью нет зависимости\n",
        "### Альтернативная гипотеза: между номером трека в альбоме и популярностью есть отрицательная зависимость\n",
        "$$H_0: \\rho = 0$$\n",
        "$$H_A: \\rho < 0$$\n",
        ", где $\\rho$ - коэффициент корреляции между номером трека в альбоме и популярностью. \\\n",
        "Посчитаем $\\rho_{obs}$: "
      ],
      "metadata": {
        "id": "rqH9_VF42axH"
      }
    },
    {
      "cell_type": "code",
      "source": [
        "rho_obs = np.corrcoef(df_tracks['popularity'], df_tracks['track number'])[0, 1]\n",
        "rho_obs"
      ],
      "metadata": {
        "colab": {
          "base_uri": "https://localhost:8080/"
        },
        "id": "tG02JgavyqG-",
        "outputId": "fd376107-9e48-48ad-daf7-2b784097437c"
      },
      "execution_count": 8,
      "outputs": [
        {
          "output_type": "execute_result",
          "data": {
            "text/plain": [
              "-0.17111683971304037"
            ]
          },
          "metadata": {},
          "execution_count": 8
        }
      ]
    },
    {
      "cell_type": "markdown",
      "source": [
        "Для проверки гипотезы проведем перестановочный тест:"
      ],
      "metadata": {
        "id": "IMGWlumz4xTY"
      }
    },
    {
      "cell_type": "code",
      "source": [
        "corr_list = []\n",
        "Y_const = df_tracks['popularity']\n",
        "for i in range(10000):\n",
        "    X_per = np.random.permutation(df_tracks['track number'])\n",
        "    corr_coef = np.corrcoef(X_per, Y_const)[0, 1]\n",
        "    corr_list.append(corr_coef)"
      ],
      "metadata": {
        "id": "PlWcszU32pDt"
      },
      "execution_count": 9,
      "outputs": []
    },
    {
      "cell_type": "markdown",
      "source": [
        "Выведем критическое значение для уровня значимости $5\\%$ $\\rho_{crit}$:"
      ],
      "metadata": {
        "id": "1FAEtsas5Ct8"
      }
    },
    {
      "cell_type": "code",
      "source": [
        "lower_bound = np.percentile(corr_list, q=5)\n",
        "lower_bound"
      ],
      "metadata": {
        "colab": {
          "base_uri": "https://localhost:8080/"
        },
        "id": "ncOkAyK_3Fta",
        "outputId": "5a278c33-c655-41ee-c639-1ecedcb9fade"
      },
      "execution_count": 10,
      "outputs": [
        {
          "output_type": "execute_result",
          "data": {
            "text/plain": [
              "-0.028712314474280198"
            ]
          },
          "metadata": {},
          "execution_count": 10
        }
      ]
    },
    {
      "cell_type": "markdown",
      "source": [
        "Поскольку $\\rho_{obs}$ < $\\rho_{crit}$, нулевая гипотеза отвергается в пользу гипотезы о наличии отрицательной взаимосвязи между номером трека в альбоме и популярностью."
      ],
      "metadata": {
        "id": "Ghc0ppyd52oH"
      }
    },
    {
      "cell_type": "markdown",
      "source": [
        "### Гипотеза 3: ожидаемая популярность песен с другими артистами равна ожидаемой популярности сольных песен\n",
        "### Альтернативная гипотеза: ожидаемая популярность песен с другими артистами больше ожидаемой популярности сольных песен\n",
        "$$H_0: \\mu_X - \\mu_Y= 0$$\n",
        "$$H_A: \\mu_X - \\mu_Y> 0$$\n",
        ",где $\\mu_X$ - ожидаемая популярность песен с другими артистами, $\\mu_Y$ - ожидаемая популярность сольных песен."
      ],
      "metadata": {
        "id": "fVoFkMETLTbF"
      }
    },
    {
      "cell_type": "markdown",
      "source": [
        "Разделим данные по популярности:"
      ],
      "metadata": {
        "id": "i6c0ClEMig5h"
      }
    },
    {
      "cell_type": "code",
      "source": [
        "X = df_tracks[(df_tracks['feat'] == 1)]['popularity']\n",
        "Y = df_tracks[(df_tracks['feat'] == 0)]['popularity']\n",
        "X.shape, Y.shape"
      ],
      "metadata": {
        "colab": {
          "base_uri": "https://localhost:8080/"
        },
        "id": "JyD9mKKBM02x",
        "outputId": "5c2b73ca-2dd5-4130-8aa7-569b270d0593"
      },
      "execution_count": 11,
      "outputs": [
        {
          "output_type": "execute_result",
          "data": {
            "text/plain": [
              "((312,), (2933,))"
            ]
          },
          "metadata": {},
          "execution_count": 11
        }
      ]
    },
    {
      "cell_type": "markdown",
      "source": [
        "Найдем $\\Delta_{obs}=\\bar{X}-\\bar{Y}$"
      ],
      "metadata": {
        "id": "ttHwcv5tqsVn"
      }
    },
    {
      "cell_type": "code",
      "source": [
        "X.mean() - Y.mean()"
      ],
      "metadata": {
        "colab": {
          "base_uri": "https://localhost:8080/"
        },
        "id": "VpnVxW9uq9LH",
        "outputId": "4a3770e2-29ac-45d7-8d6d-064462f9802a"
      },
      "execution_count": 12,
      "outputs": [
        {
          "output_type": "execute_result",
          "data": {
            "text/plain": [
              "1.3745082483149318"
            ]
          },
          "metadata": {},
          "execution_count": 12
        }
      ]
    },
    {
      "cell_type": "markdown",
      "source": [
        "Применим односторонний наивный бутстрэп, и проверим гипотезу на уровне $5\\%$:"
      ],
      "metadata": {
        "id": "pPrOeCBejBmr"
      }
    },
    {
      "cell_type": "code",
      "source": [
        "np.random.seed(15)\n",
        "X_boot = np.random.choice(X, (10000, 312))\n",
        "Y_boot = np.random.choice(Y, (10000, 2933))\n",
        "X_mean = X_boot.mean(axis=1)\n",
        "Y_mean = Y_boot.mean(axis=1)\n",
        "deltha = X_mean-Y_mean"
      ],
      "metadata": {
        "id": "ICVyDPnxP_qw"
      },
      "execution_count": 13,
      "outputs": []
    },
    {
      "cell_type": "code",
      "source": [
        "upper_bound = np.percentile(deltha, q=95)\n",
        "upper_bound"
      ],
      "metadata": {
        "colab": {
          "base_uri": "https://localhost:8080/"
        },
        "id": "wgmq1mw3qclL",
        "outputId": "1e11c9e5-21e7-466b-f69c-883a67f4994b"
      },
      "execution_count": 14,
      "outputs": [
        {
          "output_type": "execute_result",
          "data": {
            "text/plain": [
              "2.8201236263736194"
            ]
          },
          "metadata": {},
          "execution_count": 14
        }
      ]
    },
    {
      "cell_type": "markdown",
      "source": [
        "При данном уровне значимости нет оснований отвергать гипотезу о равенстве ожидаемых популярностей."
      ],
      "metadata": {
        "id": "LolX_5EZk98V"
      }
    }
  ]
}